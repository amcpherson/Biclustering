{
 "cells": [
  {
   "cell_type": "code",
   "execution_count": null,
   "metadata": {
    "scrolled": false
   },
   "outputs": [],
   "source": [
    "%matplotlib inline\n",
    "from importlib import reload\n",
    "import data_analysis as da\n",
    "import run_lichee as rl\n",
    "import inference as inf\n",
    "import numpy as np\n",
    "reload(inf)\n",
    "reload(da)\n",
    "reload(rl)"
   ]
  },
  {
   "cell_type": "code",
   "execution_count": null,
   "metadata": {
    "scrolled": false
   },
   "outputs": [],
   "source": [
    "import subprocess\n",
    "path = \"hossein/exp1.tsv\"\n",
    "print(\"Parsing Data...\")\n",
    "panel,sample_names = da.parse_data(path)\n",
    "#print(panel.axes)\n",
    "panel[\"major\"] = panel[\"major\"].astype(np.int64)\n",
    "#data,_ = generate_data()\n",
    "print(\"Copying Data...\")\n",
    "subprocess.call([\"rm\",\"tmp.hd5\"])\n",
    "subprocess.check_call([\"cp\",\"hossein/trace1.hd5\",\"tmp.hd5\"])\n",
    "print(\"Generating Model...\")\n",
    "model,trace = inf.build_model(panel,10000,3300,\"tmp.hd5\")\n"
   ]
  },
  {
   "cell_type": "code",
   "execution_count": null,
   "metadata": {
    "scrolled": true
   },
   "outputs": [],
   "source": [
    "import seaborn as sns\n",
    "import matplotlib.pyplot as plt\n",
    "from pprint import pprint\n",
    "#pprint(trace.stat_names)\n",
    "print(trace[200][\"location_indicies\"])\n",
    "#plt.plot(trace[30:][\"cluster_clustering\"])\n"
   ]
  },
  {
   "cell_type": "code",
   "execution_count": null,
   "metadata": {},
   "outputs": [],
   "source": [
    "raise Exception()\n",
    "l = []\n",
    "for i in range(15):\n",
    "    model,trace = inf.build_model(panel,44000,5000,\"traces/trace_{}.pkl\".format(i),cluster_params=\"one\")\n",
    "    x = np.mean(trace[\"logP\"][3000:]),np.std(trace[\"logP\"][3000:])\n",
    "    print(x)"
   ]
  },
  {
   "cell_type": "code",
   "execution_count": null,
   "metadata": {},
   "outputs": [],
   "source": [
    "import seaborn as sns\n",
    "import gc\n",
    "BURNIN=4000\n",
    "SUBSAMPLE=50\n",
    "with open(\"/scratch/chuebner/Biclustering/lichee_out/lichee_1/c_count.txt\",\"r\") as f:\n",
    "    lines = f.read().split(\"\\n\")\n",
    "    good = []\n",
    "    bad = []\n",
    "    sub_trace = trace[BURNIN::SUBSAMPLE]\n",
    "    for line in lines[:-1]:\n",
    "        print(line)\n",
    "        a,b,c = line.split(\":\")\n",
    "        index,count,max_n = int(a),int(b),int(c)\n",
    "        i = (index-BURNIN)/SUBSAMPLE+1\n",
    "        if (count==max_n):\n",
    "            good.append(dict(sub_trace[i]))\n",
    "            print(line,\"--------------\")\n",
    "        else:\n",
    "            bad.append(dict(sub_trace[i]))\n",
    "            print(line)\n"
   ]
  },
  {
   "cell_type": "code",
   "execution_count": null,
   "metadata": {},
   "outputs": [],
   "source": [
    "def count_unique(x):\n",
    "    TRESH = 2\n",
    "    ci = x[\"cluster_indicies\"]\n",
    "    pli = x[\"location_indicies\"]\n",
    "    pac,counts = np.unique(ci,return_counts=True)\n",
    "    ac = pac[counts > TRESH]\n",
    "    aci = ci[ac,:]\n",
    "    total_active_unique_axis_clusters = np.unique(aci+np.arange(aci.shape[1])*14).shape[0]\n",
    "    return total_active_unique_axis_clusters\n",
    "\n",
    "index = sorted(range(len(sub_trace)),key=lambda k: count_unique(sub_trace[k]))\n",
    "[(count_unique(sub_trace[x]),x) for x in index]"
   ]
  },
  {
   "cell_type": "code",
   "execution_count": null,
   "metadata": {},
   "outputs": [],
   "source": [
    "import seaborn as sns\n",
    "sns.distplot(np.array(trace[\"logP\"][500:2600])-np.array(trace[\"logP\"][501:1901]))\n",
    "print(np.mean(trace[\"\"][500:2100]))"
   ]
  },
  {
   "cell_type": "code",
   "execution_count": null,
   "metadata": {},
   "outputs": [],
   "source": [
    "import matplotlib.pyplot as plt\n",
    "fig, ax1 = plt.subplots()\n",
    "\n",
    "ax2 = ax1.twinx()\n",
    "\n",
    "N = 1\n",
    "mask = np.ones((N,))/N\n",
    "f = lambda x: np.convolve(x, mask, mode='valid')\n",
    "ax1.plot(f(list(-trace[\"logP\"][50:])), 'g-')\n",
    "ax2.plot(f(list(trace[\"cluster_clustering\"][50:])), 'b-')\n",
    "#print(trace[\"axis_cluster\"][26000])\n",
    "\n",
    "ax1.set_xlabel('X data')\n",
    "ax1.set_ylabel('log probablity of a configuration', color='g')\n",
    "ax2.set_ylabel('cluster concentration parameter', color='b')\n"
   ]
  },
  {
   "cell_type": "code",
   "execution_count": null,
   "metadata": {},
   "outputs": [],
   "source": [
    "print(panel.axes[0])\n",
    "print(panel[\"total_raw_e\"])"
   ]
  },
  {
   "cell_type": "code",
   "execution_count": null,
   "metadata": {
    "scrolled": false
   },
   "outputs": [],
   "source": [
    "import seaborn\n",
    "seaborn.set()\n",
    "from pprint import pprint\n",
    "import pandas as pd\n",
    "\n",
    "pos = 200\n",
    "panel,sample_names = da.parse_data(path)\n",
    "df = panel.to_frame()\n",
    "clustering = trace[pos][\"location_indicies\"]\n",
    "#curr_tcns = trace[pos][\"tcns\"]\n",
    "pd.options.display.max_columns = 500\n",
    "#df = df[[\"sample_id\",\"Origin Node\",\"alt_counts\",\"ref_counts\"]]\n",
    "panel[\"vaf\"] = panel[\"alt_counts\"]/(panel[\"alt_counts\"]+panel[\"ref_counts\"])\n",
    "#panel = da.add_column_to_panel(panel,\"inferred_cn\",curr_tcns)\n",
    "#tcns = panel[\"inferred_cn\"]\n",
    "tcnt = trace[pos][\"tumour_content\"]\n",
    "tre = panel[\"total_raw_e\"]\n",
    "#panel[\"ccf\"] = panel[\"vaf\"] * (2*(1-tcnt)+tre*tcnt)/(tcns*tcnt)\n",
    "#df = df[[\"Origin Node\",\"y\"]]\n",
    "pn = da.add_column_to_panel(panel,\"cluster_id\",clustering)\n",
    "#print(pn[\"cluster_id\"])\n",
    "df = pn.to_frame()\n",
    "df = df.reset_index()\n",
    "#df = df[df[\"cluster_id\"].isin([5,6])] \n",
    "seaborn.factorplot(\n",
    "    #hue='cluster_id',\n",
    "    #hue='event_id',\n",
    "    #dodge='True',\n",
    "    y='vaf', x='sample_id', #row='cluster_id',\n",
    "    data=df, \n",
    "    kind='strip',\n",
    "    jitter=True,alpha=0.5,\n",
    "    aspect=4,size=4)\n",
    "print(trace[\"cluster_magnitudes\"][pos])"
   ]
  },
  {
   "cell_type": "code",
   "execution_count": null,
   "metadata": {},
   "outputs": [],
   "source": [
    "counts = df.loc[df[\"cluster_id\"] == 0,[\"alt_counts\",\"ref_counts\",\"sample_id\",\"event_id\"]].set_index([\"event_id\",\"sample_id\"]).unstack()\n",
    "print(counts)"
   ]
  },
  {
   "cell_type": "code",
   "execution_count": null,
   "metadata": {},
   "outputs": [],
   "source": [
    "pos = 18000\n",
    "maj = df.loc[df[\"cluster_id\"] == 2,[\"major\",\"sample_id\",\"event_id\"]].set_index([\"event_id\",\"sample_id\"]).unstack()\n",
    "tcn = pd.DataFrame(trace[\"tcns\"][pos],index=pn.axes[1],columns=pn.axes[2]).loc[maj.index]\n",
    "\n",
    "print(tcn/maj)\n"
   ]
  },
  {
   "cell_type": "code",
   "execution_count": null,
   "metadata": {},
   "outputs": [],
   "source": [
    "cluster_locations = inf.get_map_item(model,trace,\"cluster_locations\")\n",
    "fig = plt.figure(figsize=(10, 100))\n",
    "ax = plt.gca()\n",
    "seaborn.heatmap(cluster_locations, ax=ax, cmap=\"YlGnBu\")"
   ]
  },
  {
   "cell_type": "code",
   "execution_count": null,
   "metadata": {},
   "outputs": [],
   "source": [
    "stat = trace[18000][\"tumour_content\"]\n",
    "print(stat)"
   ]
  },
  {
   "cell_type": "code",
   "execution_count": null,
   "metadata": {
    "scrolled": false
   },
   "outputs": [],
   "source": [
    "import pandas as pd\n",
    "pos = 10100\n",
    "cluster_locations = trace[-1][\"cluster_locations\"]\n",
    "#cluster_locations = trace[200][\"cluster_indicies\"]\n",
    "location_indicies = trace[-1][\"location_indicies\"]\n",
    "columns=da.get_sample_names(pd.read_csv(path,sep=\"\\t\"))\n",
    "\n",
    "entries = {}\n",
    "#count datapoints in each cluster and add \n",
    "for i in location_indicies:\n",
    "    if i in entries:\n",
    "         entries[i][\"count\"] += 1\n",
    "    else:\n",
    "        entry = {columns[0][j]:cluster_locations[i,j] for j in range(columns[1])}\n",
    "        entry[\"cluster_index\"] = i\n",
    "        entry[\"count\"] = 1\n",
    "        entries[i] = entry\n",
    "df = pd.DataFrame(list(entries.values()))\n",
    "df.sort_values(\"count\",ascending=False,inplace=True)\n",
    "print(df)\n",
    "    "
   ]
  },
  {
   "cell_type": "code",
   "execution_count": null,
   "metadata": {},
   "outputs": [],
   "source": [
    " pos = -1\n",
    "location_indicies = trace[pos][\"location_indicies\"]\n",
    "cluster_indicies = trace[pos][\"cluster_indicies\"]\n",
    "axis_cluster_locations = trace[pos][\"axis_cluster_locations\"]\n",
    "cluster_clustering = None#inf.get_map_item(model,trace,\"cluster_clustering\")\n",
    "ssnv_input,cluster_input = rl.build_lichee_inputs(\"\",panel,location_indicies,cluster_indicies,axis_cluster_locations,5)"
   ]
  }
 ],
 "metadata": {
  "kernelspec": {
   "display_name": "Python 3",
   "language": "python",
   "name": "python3"
  },
  "language_info": {
   "codemirror_mode": {
    "name": "ipython",
    "version": 3
   },
   "file_extension": ".py",
   "mimetype": "text/x-python",
   "name": "python",
   "nbconvert_exporter": "python",
   "pygments_lexer": "ipython3",
   "version": "3.6.3"
  }
 },
 "nbformat": 4,
 "nbformat_minor": 1
}
